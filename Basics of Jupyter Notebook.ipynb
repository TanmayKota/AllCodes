{
 "cells": [
  {
   "cell_type": "markdown",
   "id": "f6f4b665",
   "metadata": {},
   "source": [
    "# Introduction to Autonomous Systems (2022/23)\n",
    "\n",
    "## Exercise 1\n",
    "\n",
    "Submitted by:\n",
    "- Tanmay Kota (Matrikel Nr:- 425835)\n",
    "- Rahul Pareek (Matrikel Nr:- 425710)\n",
    "- Mangesh Virkar (Matrikel Nr:- 425891)"
   ]
  },
  {
   "cell_type": "markdown",
   "id": "f4c23654",
   "metadata": {},
   "source": [
    "## 1. Python Environment Setup"
   ]
  },
  {
   "cell_type": "markdown",
   "id": "fc20b222",
   "metadata": {},
   "source": [
    "        Check python installed in the system, by running the below cell, If you see an output without error, python is installed."
   ]
  },
  {
   "cell_type": "code",
   "execution_count": 1,
   "id": "401e34d8",
   "metadata": {},
   "outputs": [
    {
     "name": "stdout",
     "output_type": "stream",
     "text": [
      "Python 3.9.13\n"
     ]
    }
   ],
   "source": [
    "! python -V"
   ]
  },
  {
   "cell_type": "markdown",
   "id": "c83ae4bb",
   "metadata": {},
   "source": [
    "#### Else, install python from https://www.python.org/downloads/"
   ]
  },
  {
   "cell_type": "markdown",
   "id": "fbcb5c80",
   "metadata": {},
   "source": [
    "### 1.1 Creating virtual enviroment"
   ]
  },
  {
   "cell_type": "markdown",
   "id": "22159632",
   "metadata": {},
   "source": [
    "### 1.1.1 Using python venv"
   ]
  },
  {
   "cell_type": "markdown",
   "id": "8e7ccef7",
   "metadata": {},
   "source": [
    "        Command: python -m venv /path/to/your/environment\n",
    "                python -m venv C:\\Users\\Administrator\\Documents\\Exercises\\venv"
   ]
  },
  {
   "cell_type": "markdown",
   "id": "02b39d50",
   "metadata": {},
   "source": [
    "##### Activating the environment"
   ]
  },
  {
   "cell_type": "markdown",
   "id": "31ad17f6",
   "metadata": {},
   "source": [
    "        In terminal run the below command:\n",
    "            For Windows: C:/Users/Administrator/Documents/Exercises/venv/Scripts/activate\n",
    "            For Ubunutu: source /path_to_enviroment/bin/activate"
   ]
  },
  {
   "cell_type": "markdown",
   "id": "5b20740c",
   "metadata": {},
   "source": [
    "##### Deactivating the environment:"
   ]
  },
  {
   "cell_type": "markdown",
   "id": "12208845",
   "metadata": {},
   "source": [
    "        In terminal, type deactivate and press ENTER."
   ]
  },
  {
   "cell_type": "markdown",
   "id": "f05ef00a",
   "metadata": {},
   "source": [
    "#### 1.1.2 Using Conda:"
   ]
  },
  {
   "cell_type": "markdown",
   "id": "eb90a016",
   "metadata": {},
   "source": [
    "        Install Conda https://docs.conda.io/projects/conda/en/latest/user-guide/install/windows.html"
   ]
  },
  {
   "cell_type": "markdown",
   "id": "4e5f8738",
   "metadata": {},
   "source": [
    "##### Useful conda commands, to be run in terminal:"
   ]
  },
  {
   "cell_type": "markdown",
   "id": "7446348d",
   "metadata": {},
   "source": [
    "        creating an environment with name myenv: \n",
    "            conda create -n myenv python=3.9\n",
    "                                                      \n",
    "        list all available conda environments:\n",
    "            conda env list\n",
    "                                \n",
    "        activate an conda environment: \n",
    "            conda activate myenv"
   ]
  },
  {
   "cell_type": "markdown",
   "id": "95e662ca",
   "metadata": {},
   "source": [
    "### 1.2 Install packages and requirements using pip"
   ]
  },
  {
   "cell_type": "markdown",
   "id": "47661ce5",
   "metadata": {},
   "source": [
    "        First activate the virtual enviroment.\n",
    "        \n",
    "        To install a specific package, for example to install numpy package\n",
    "            pip install numpy\n",
    "            \n",
    "        To install several requirements listed in a requirements.txt file:\n",
    "            pip install -r requirements.txt"
   ]
  },
  {
   "cell_type": "markdown",
   "id": "53369fcd",
   "metadata": {},
   "source": [
    "## 2. Task Python Basis"
   ]
  },
  {
   "cell_type": "code",
   "execution_count": 2,
   "id": "d2aaa319",
   "metadata": {},
   "outputs": [],
   "source": [
    "import numpy as np\n",
    "import pandas as pd\n",
    "import matplotlib.pyplot as plt\n",
    "from scipy.signal import argrelextrema"
   ]
  },
  {
   "cell_type": "markdown",
   "id": "6c09b8d7",
   "metadata": {},
   "source": [
    "#### 2.1 Create a 5X2 integer array from a range between 100 to 200 such that the difference between each element is 10"
   ]
  },
  {
   "cell_type": "code",
   "execution_count": 3,
   "id": "a31045d0",
   "metadata": {},
   "outputs": [
    {
     "data": {
      "text/plain": [
       "'Creating a 5x2 integer array from a range between 100 to 200 such that the difference between each element is 10'"
      ]
     },
     "metadata": {},
     "output_type": "display_data"
    },
    {
     "data": {
      "text/plain": [
       "array([[100, 110],\n",
       "       [120, 130],\n",
       "       [140, 150],\n",
       "       [160, 170],\n",
       "       [180, 190]])"
      ]
     },
     "metadata": {},
     "output_type": "display_data"
    }
   ],
   "source": [
    "P=np.arange(100,200,10).reshape(5,2)\n",
    "display(\"Creating a 5x2 integer array from a range between 100 to 200 such that the difference between each element is 10\",P)"
   ]
  },
  {
   "cell_type": "markdown",
   "id": "bce15fbd",
   "metadata": {},
   "source": [
    "#### 2.2 Print max from axis 0 and min from axis 1 from the following 2-D array."
   ]
  },
  {
   "cell_type": "code",
   "execution_count": 4,
   "id": "729b7d8b",
   "metadata": {},
   "outputs": [
    {
     "data": {
      "text/plain": [
       "'Original Matrix'"
      ]
     },
     "metadata": {},
     "output_type": "display_data"
    },
    {
     "data": {
      "text/plain": [
       "array([[34, 34, 73],\n",
       "       [82, 22, 12],\n",
       "       [53, 94, 66]])"
      ]
     },
     "metadata": {},
     "output_type": "display_data"
    },
    {
     "data": {
      "text/plain": [
       "'Maximum value from axis 0'"
      ]
     },
     "metadata": {},
     "output_type": "display_data"
    },
    {
     "data": {
      "text/plain": [
       "array([82, 94, 73])"
      ]
     },
     "metadata": {},
     "output_type": "display_data"
    },
    {
     "data": {
      "text/plain": [
       "'Minimum Value from axis 1'"
      ]
     },
     "metadata": {},
     "output_type": "display_data"
    },
    {
     "data": {
      "text/plain": [
       "array([34, 12, 53])"
      ]
     },
     "metadata": {},
     "output_type": "display_data"
    }
   ],
   "source": [
    "P=np.array([[34,34,73],[82,22,12],[53,94,66]]).reshape(3,3)\n",
    "display(\"Original Matrix\",P)\n",
    "max=np.max(P,axis=0)\n",
    "display(\"Maximum value from axis 0\",max)\n",
    "min=np.min(P,axis=1)\n",
    "display(\"Minimum Value from axis 1\",min)"
   ]
  },
  {
   "cell_type": "markdown",
   "id": "17fb4077",
   "metadata": {},
   "source": [
    "#### 2.3 Write a Python function to normalize an array so the values range exactly between 0 and 1"
   ]
  },
  {
   "cell_type": "code",
   "execution_count": 5,
   "id": "841f1d04",
   "metadata": {},
   "outputs": [
    {
     "data": {
      "text/plain": [
       "'Initial Matrix'"
      ]
     },
     "metadata": {},
     "output_type": "display_data"
    },
    {
     "data": {
      "text/plain": [
       "array([[16, 12,  8,  8, 11],\n",
       "       [22, 24, 24, 19,  3],\n",
       "       [23, 18,  1, 17, 21],\n",
       "       [20, 13, 22,  2,  4],\n",
       "       [19, 21,  2, 20, 15]])"
      ]
     },
     "metadata": {},
     "output_type": "display_data"
    },
    {
     "data": {
      "text/plain": [
       "'Final Matrix'"
      ]
     },
     "metadata": {},
     "output_type": "display_data"
    },
    {
     "data": {
      "text/plain": [
       "array([[0.19484686, 0.14613514, 0.09742343, 0.09742343, 0.13395721],\n",
       "       [0.26791443, 0.29227028, 0.29227028, 0.23138064, 0.03653379],\n",
       "       [0.28009236, 0.21920271, 0.01217793, 0.20702478, 0.2557365 ],\n",
       "       [0.24355857, 0.15831307, 0.26791443, 0.02435586, 0.04871171],\n",
       "       [0.23138064, 0.2557365 , 0.02435586, 0.24355857, 0.18266893]])"
      ]
     },
     "metadata": {},
     "output_type": "display_data"
    }
   ],
   "source": [
    "def normalize_2d(matrix):\n",
    "    norm = np.linalg.norm(matrix)\n",
    "    matrix = matrix/norm  # normalized matrix\n",
    "    return matrix\n",
    "\n",
    "R=np.random.randint(25,size=(5,5))\n",
    "final_matrix=normalize_2d(R)\n",
    "display(\"Initial Matrix\",R)\n",
    "display(\"Final Matrix\",final_matrix)"
   ]
  },
  {
   "cell_type": "markdown",
   "id": "19196474",
   "metadata": {},
   "source": [
    "#### 2.4 Generate the inverse of a given matrix"
   ]
  },
  {
   "cell_type": "code",
   "execution_count": 6,
   "id": "7f50563c",
   "metadata": {},
   "outputs": [
    {
     "data": {
      "text/plain": [
       "'Original matrix'"
      ]
     },
     "metadata": {},
     "output_type": "display_data"
    },
    {
     "data": {
      "text/plain": [
       "array([[ 6,  1,  1],\n",
       "       [ 4, -2,  5],\n",
       "       [ 2,  8,  7]])"
      ]
     },
     "metadata": {},
     "output_type": "display_data"
    },
    {
     "data": {
      "text/plain": [
       "'Inverse Matrix'"
      ]
     },
     "metadata": {},
     "output_type": "display_data"
    },
    {
     "data": {
      "text/plain": [
       "array([[ 0.17647059, -0.00326797, -0.02287582],\n",
       "       [ 0.05882353, -0.13071895,  0.08496732],\n",
       "       [-0.11764706,  0.1503268 ,  0.05228758]])"
      ]
     },
     "metadata": {},
     "output_type": "display_data"
    }
   ],
   "source": [
    "r=np.array([[6,1,1],[4,-2,5],[2,8,7]]).reshape(3,3)\n",
    "display(\"Original matrix\",r)\n",
    "r_inverse=np.linalg.inv(r)\n",
    "display(\"Inverse Matrix\",r_inverse)"
   ]
  },
  {
   "cell_type": "markdown",
   "id": "a83092e7",
   "metadata": {},
   "source": [
    "#### 2.5 Remove columns in Numpy array that contains non-numeric values"
   ]
  },
  {
   "cell_type": "code",
   "execution_count": 7,
   "id": "c333f36e",
   "metadata": {},
   "outputs": [
    {
     "data": {
      "text/plain": [
       "'Original Matrix'"
      ]
     },
     "metadata": {},
     "output_type": "display_data"
    },
    {
     "data": {
      "text/plain": [
       "array([[ 10.5 ,  22.5 ,   3.8 ],\n",
       "       [ 23.45,  50.  ,  78.7 ],\n",
       "       [ 41.  ,    nan,    nan],\n",
       "       [ 20.  , 502.  ,    nan],\n",
       "       [ 18.8 ,  50.6 ,   8.8 ]])"
      ]
     },
     "metadata": {},
     "output_type": "display_data"
    },
    {
     "data": {
      "text/plain": [
       "'New Matrix'"
      ]
     },
     "metadata": {},
     "output_type": "display_data"
    },
    {
     "data": {
      "text/plain": [
       "array([[10.5 ],\n",
       "       [23.45],\n",
       "       [41.  ],\n",
       "       [20.  ],\n",
       "       [18.8 ]])"
      ]
     },
     "metadata": {},
     "output_type": "display_data"
    }
   ],
   "source": [
    "r=np.array([[10.5,22.5,3.8],[23.45,50,78.7],[41,np.nan,np.nan],[20,502,np.nan],[18.8,50.6,8.8]])\n",
    "display(\"Original Matrix\",r)\n",
    "new_matrix=r[:,~pd.isnull(r).any(axis=0)]\n",
    "display(\"New Matrix\",new_matrix)"
   ]
  },
  {
   "cell_type": "markdown",
   "id": "df35684a",
   "metadata": {},
   "source": [
    "#### 2.6 Create two 2-D arrays and stack them horizontally"
   ]
  },
  {
   "cell_type": "code",
   "execution_count": 8,
   "id": "6b5d5a97",
   "metadata": {},
   "outputs": [
    {
     "data": {
      "text/plain": [
       "'Original Matrix 1'"
      ]
     },
     "metadata": {},
     "output_type": "display_data"
    },
    {
     "data": {
      "text/plain": [
       "array([[20, 16,  0, 22, 20],\n",
       "       [11,  5,  6, 14,  9],\n",
       "       [ 6, 19, 20,  4, 13],\n",
       "       [ 8, 15, 19,  9, 11],\n",
       "       [ 0, 22,  8, 21, 23]])"
      ]
     },
     "metadata": {},
     "output_type": "display_data"
    },
    {
     "data": {
      "text/plain": [
       "'Original Matrix 2'"
      ]
     },
     "metadata": {},
     "output_type": "display_data"
    },
    {
     "data": {
      "text/plain": [
       "array([[20, 17, 23,  3, 14],\n",
       "       [16, 13,  2, 24,  6],\n",
       "       [21, 20, 24,  3, 23],\n",
       "       [ 9, 10, 23, 15, 22],\n",
       "       [ 5, 24, 24,  9,  1]])"
      ]
     },
     "metadata": {},
     "output_type": "display_data"
    },
    {
     "data": {
      "text/plain": [
       "'New Matrix'"
      ]
     },
     "metadata": {},
     "output_type": "display_data"
    },
    {
     "data": {
      "text/plain": [
       "array([[20, 16,  0, 22, 20, 20, 17, 23,  3, 14],\n",
       "       [11,  5,  6, 14,  9, 16, 13,  2, 24,  6],\n",
       "       [ 6, 19, 20,  4, 13, 21, 20, 24,  3, 23],\n",
       "       [ 8, 15, 19,  9, 11,  9, 10, 23, 15, 22],\n",
       "       [ 0, 22,  8, 21, 23,  5, 24, 24,  9,  1]])"
      ]
     },
     "metadata": {},
     "output_type": "display_data"
    }
   ],
   "source": [
    "R1=np.random.randint(25,size=(5,5))\n",
    "R2=np.random.randint(25,size=(5,5))\n",
    "display(\"Original Matrix 1\",R1)\n",
    "display(\"Original Matrix 2\",R2)\n",
    "new_matrix=np.hstack((R1,R2))\n",
    "display(\"New Matrix\",new_matrix)"
   ]
  },
  {
   "cell_type": "markdown",
   "id": "df35684a",
   "metadata": {},
   "source": [
    "#### 2.7 Create two 2-D arrays and stack them vertically"
   ]
  },
  {
   "cell_type": "code",
   "execution_count": 9,
   "id": "6b5d5a97",
   "metadata": {},
   "outputs": [
    {
     "data": {
      "text/plain": [
       "'Original Matrix 1'"
      ]
     },
     "metadata": {},
     "output_type": "display_data"
    },
    {
     "data": {
      "text/plain": [
       "array([[ 0, 16, 16, 13,  2],\n",
       "       [19,  1, 18,  5,  9],\n",
       "       [ 6,  7,  3,  2, 21],\n",
       "       [17, 14,  9, 10, 11],\n",
       "       [14,  8,  3,  3,  5]])"
      ]
     },
     "metadata": {},
     "output_type": "display_data"
    },
    {
     "data": {
      "text/plain": [
       "'Original Matrix 2'"
      ]
     },
     "metadata": {},
     "output_type": "display_data"
    },
    {
     "data": {
      "text/plain": [
       "array([[16, 10, 21,  3, 12],\n",
       "       [ 2, 10, 21, 13,  3],\n",
       "       [20, 21, 16,  4,  6],\n",
       "       [12,  9, 16, 19, 22],\n",
       "       [ 1, 16,  1,  2, 18]])"
      ]
     },
     "metadata": {},
     "output_type": "display_data"
    },
    {
     "data": {
      "text/plain": [
       "'New Matrix'"
      ]
     },
     "metadata": {},
     "output_type": "display_data"
    },
    {
     "data": {
      "text/plain": [
       "array([[ 0, 16, 16, 13,  2],\n",
       "       [19,  1, 18,  5,  9],\n",
       "       [ 6,  7,  3,  2, 21],\n",
       "       [17, 14,  9, 10, 11],\n",
       "       [14,  8,  3,  3,  5],\n",
       "       [16, 10, 21,  3, 12],\n",
       "       [ 2, 10, 21, 13,  3],\n",
       "       [20, 21, 16,  4,  6],\n",
       "       [12,  9, 16, 19, 22],\n",
       "       [ 1, 16,  1,  2, 18]])"
      ]
     },
     "metadata": {},
     "output_type": "display_data"
    }
   ],
   "source": [
    "R1=np.random.randint(25,size=(5,5))\n",
    "R2=np.random.randint(25,size=(5,5))\n",
    "display(\"Original Matrix 1\",R1)\n",
    "display(\"Original Matrix 2\",R2)\n",
    "new_matrix=np.vstack((R1,R2))\n",
    "display(\"New Matrix\",new_matrix)"
   ]
  },
  {
   "cell_type": "markdown",
   "id": "df35684a",
   "metadata": {},
   "source": [
    "#### 2.8 Create two 3-D arrays and stack them depth wise"
   ]
  },
  {
   "cell_type": "code",
   "execution_count": 10,
   "id": "6b5d5a97",
   "metadata": {},
   "outputs": [
    {
     "data": {
      "text/plain": [
       "'Original Matrix 1'"
      ]
     },
     "metadata": {},
     "output_type": "display_data"
    },
    {
     "data": {
      "text/plain": [
       "array([[[ 8, 18, 16],\n",
       "        [14, 14, 20],\n",
       "        [22, 26, 20]],\n",
       "\n",
       "       [[ 2,  9, 16],\n",
       "        [19,  1, 11],\n",
       "        [24, 22,  9]],\n",
       "\n",
       "       [[ 5, 22, 23],\n",
       "        [17, 21,  9],\n",
       "        [ 2,  1,  5]]])"
      ]
     },
     "metadata": {},
     "output_type": "display_data"
    },
    {
     "data": {
      "text/plain": [
       "'Original Matrix 2'"
      ]
     },
     "metadata": {},
     "output_type": "display_data"
    },
    {
     "data": {
      "text/plain": [
       "array([[[ 4, 15,  1],\n",
       "        [18, 20, 24],\n",
       "        [17,  2,  6]],\n",
       "\n",
       "       [[ 7, 24, 21],\n",
       "        [ 2,  1, 20],\n",
       "        [ 7, 19, 25]],\n",
       "\n",
       "       [[ 0,  4, 21],\n",
       "        [15, 24,  6],\n",
       "        [ 6,  0, 23]]])"
      ]
     },
     "metadata": {},
     "output_type": "display_data"
    },
    {
     "data": {
      "text/plain": [
       "'New Matrix'"
      ]
     },
     "metadata": {},
     "output_type": "display_data"
    },
    {
     "data": {
      "text/plain": [
       "array([[[ 8, 18, 16,  4, 15,  1],\n",
       "        [14, 14, 20, 18, 20, 24],\n",
       "        [22, 26, 20, 17,  2,  6]],\n",
       "\n",
       "       [[ 2,  9, 16,  7, 24, 21],\n",
       "        [19,  1, 11,  2,  1, 20],\n",
       "        [24, 22,  9,  7, 19, 25]],\n",
       "\n",
       "       [[ 5, 22, 23,  0,  4, 21],\n",
       "        [17, 21,  9, 15, 24,  6],\n",
       "        [ 2,  1,  5,  6,  0, 23]]])"
      ]
     },
     "metadata": {},
     "output_type": "display_data"
    }
   ],
   "source": [
    "R1=np.random.randint(27,size=(3,3,3))\n",
    "R2=np.random.randint(27,size=(3,3,3))\n",
    "display(\"Original Matrix 1\",R1)\n",
    "display(\"Original Matrix 2\",R2)\n",
    "new_matrix=np.dstack((R1,R2))\n",
    "display(\"New Matrix\",new_matrix)"
   ]
  },
  {
   "cell_type": "markdown",
   "id": "df35684a",
   "metadata": {},
   "source": [
    "#### 2.9 Create 2-D array and compute the row wise counts of all possible values in the array"
   ]
  },
  {
   "cell_type": "code",
   "execution_count": 13,
   "id": "6b5d5a97",
   "metadata": {},
   "outputs": [
    {
     "data": {
      "text/plain": [
       "array([[1, 1, 1, 1, 1],\n",
       "       [1, 1, 1, 1, 1],\n",
       "       [1, 1, 1, 1, 1],\n",
       "       [2, 1, 1, 0, 1],\n",
       "       [1, 1, 1, 1, 1]])"
      ]
     },
     "metadata": {},
     "output_type": "display_data"
    }
   ],
   "source": [
    "R1=np.random.randint(25,size=(5,5))                            \n",
    "args = np.argsort(R1)\n",
    "unique = R1[np.indices(R1.shape)[0], args]\n",
    "changes = np.pad(unique[:, 1:] != unique[:, :-1], ((0, 0), (1, 0)), mode=\"constant\", constant_values=1)\n",
    "idxs = np.nonzero(changes)\n",
    "tmp = np.hstack((idxs[-1], 0))\n",
    "counts = np.where(tmp[1:], np.diff(tmp), R1.shape[-1]-tmp[:-1])\n",
    "count_array = np.zeros(R1.shape, dtype=\"int\")\n",
    "count_array[(idxs[0], args[idxs])] = counts\n",
    "display(count_array)"
   ]
  },
  {
   "cell_type": "markdown",
   "id": "df35684a",
   "metadata": {},
   "source": [
    "#### 2.10 Create a long 1-D array of lenght L and convert it to a 2D array of fixed column size N by using strides of length h. Try with different values of M and h with h < M < L. For example M = 4, 5, 6 and h = 2, 3, 5.   "
   ]
  },
  {
   "cell_type": "code",
   "execution_count": 14,
   "id": "6b5d5a97",
   "metadata": {},
   "outputs": [
    {
     "data": {
      "text/plain": [
       "array([0.1727481 , 0.52496015, 0.09165313, 0.38177119, 0.03784696,\n",
       "       0.25331479, 0.30946425, 0.32493496, 0.66457506, 0.03185508,\n",
       "       0.28100703, 0.70078836, 0.94098043, 0.86354641, 0.95738218])"
      ]
     },
     "metadata": {},
     "output_type": "display_data"
    },
    {
     "data": {
      "text/plain": [
       "(15,)"
      ]
     },
     "metadata": {},
     "output_type": "display_data"
    },
    {
     "data": {
      "text/plain": [
       "array([[0.1727481 , 0.52496015, 0.09165313],\n",
       "       [0.38177119, 0.03784696, 0.25331479],\n",
       "       [0.30946425, 0.32493496, 0.66457506],\n",
       "       [0.03185508, 0.28100703, 0.70078836],\n",
       "       [0.94098043, 0.86354641, 0.95738218]])"
      ]
     },
     "metadata": {},
     "output_type": "display_data"
    },
    {
     "data": {
      "text/plain": [
       "(5, 3)"
      ]
     },
     "metadata": {},
     "output_type": "display_data"
    }
   ],
   "source": [
    "a=np.random.random(15)\n",
    "display(a)\n",
    "display(a.shape)\n",
    "\n",
    "new_matrix=a.reshape(5,3)\n",
    "display(new_matrix)\n",
    "display(new_matrix.shape)"
   ]
  },
  {
   "cell_type": "markdown",
   "id": "df35684a",
   "metadata": {},
   "source": [
    "#### 2.11 Create a 1-D array and find all the local maxima (peaks) in it.\n",
    "Hint: Peaks are points surrounded by smaller values on both sides"
   ]
  },
  {
   "cell_type": "code",
   "execution_count": 15,
   "id": "490f9dac",
   "metadata": {},
   "outputs": [
    {
     "data": {
      "text/plain": [
       "(array([ 3,  7, 10, 13, 15, 17, 21, 24, 26, 29, 33, 35, 37, 40, 43, 45, 50,\n",
       "        53, 57, 60, 62, 64, 68, 71, 74, 78, 81, 83, 86, 89, 96],\n",
       "       dtype=int64),)"
      ]
     },
     "metadata": {},
     "output_type": "display_data"
    }
   ],
   "source": [
    "a=np.random.random(100)\n",
    "x=argrelextrema(a, np.greater)\n",
    "display(x)"
   ]
  },
  {
   "cell_type": "markdown",
   "id": "df35684a",
   "metadata": {},
   "source": [
    "#### 2.12 Create two 2-D arrays and Plot them using matplotlib "
   ]
  },
  {
   "cell_type": "code",
   "execution_count": 16,
   "id": "a7b8b3ee",
   "metadata": {},
   "outputs": [
    {
     "data": {
      "text/plain": [
       "'Original Matrix 1'"
      ]
     },
     "metadata": {},
     "output_type": "display_data"
    },
    {
     "data": {
      "text/plain": [
       "array([[-3,  3],\n",
       "       [-2, -1]])"
      ]
     },
     "metadata": {},
     "output_type": "display_data"
    },
    {
     "data": {
      "text/plain": [
       "'Original Matrix 2'"
      ]
     },
     "metadata": {},
     "output_type": "display_data"
    },
    {
     "data": {
      "text/plain": [
       "array([[-980,  291],\n",
       "       [-764, -764]])"
      ]
     },
     "metadata": {},
     "output_type": "display_data"
    },
    {
     "data": {
      "image/png": "[encoded data removed]",
      "text/plain": [
       "<Figure size 640x480 with 1 Axes>"
      ]
     },
     "metadata": {},
     "output_type": "display_data"
    }
   ],
   "source": [
    "R1=np.random.randint(-4,4,size=(2,2))\n",
    "R2=np.random.randint(-1000,1000,size=(2,2))\n",
    "display(\"Original Matrix 1\",R1)\n",
    "display(\"Original Matrix 2\",R2)\n",
    "plt.scatter(R1,R2)\n",
    "plt.plot(R1,R2)\n",
    "plt.xlabel('x axis')\n",
    "plt.ylabel('y axis')\n",
    "plt.show()"
   ]
  }
 ],
 "metadata": {
  "celltoolbar": "Raw Cell Format",
  "kernelspec": {
   "display_name": "Python 3.9.13 ('base')",
   "language": "python",
   "name": "python3"
  },
  "language_info": {
   "codemirror_mode": {
    "name": "ipython",
    "version": 3
   },
   "file_extension": ".py",
   "mimetype": "text/x-python",
   "name": "python",
   "nbconvert_exporter": "python",
   "pygments_lexer": "ipython3",
   "version": "3.9.13"
  },
  "vscode": {
   "interpreter": {
    "hash": "cdad8b85f771338c628faa3bca1292828f3256852ec7e8c76494f82205a023ad"
   }
  }
 },
 "nbformat": 4,
 "nbformat_minor": 5
}
